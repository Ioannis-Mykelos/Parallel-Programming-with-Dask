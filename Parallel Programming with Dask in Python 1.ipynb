{
 "cells": [
  {
   "cell_type": "code",
   "execution_count": 15,
   "metadata": {},
   "outputs": [
    {
     "name": "stdout",
     "output_type": "stream",
     "text": [
      "type: <class 'pandas.core.frame.DataFrame'> shape: (10000, 19)\n",
      "type: <class 'pandas.core.frame.DataFrame'> shape: (10000, 19)\n",
      "type: <class 'pandas.core.frame.DataFrame'> shape: (10000, 19)\n",
      "type: <class 'pandas.core.frame.DataFrame'> shape: (10000, 19)\n",
      "type: <class 'pandas.core.frame.DataFrame'> shape: (10000, 19)\n",
      "type: <class 'pandas.core.frame.DataFrame'> shape: (10000, 19)\n",
      "type: <class 'pandas.core.frame.DataFrame'> shape: (10000, 19)\n",
      "type: <class 'pandas.core.frame.DataFrame'> shape: (9673, 19)\n"
     ]
    },
    {
     "data": {
      "image/png": "[encoded data removed]",
      "text/plain": [
       "<Figure size 432x288 with 1 Axes>"
      ]
     },
     "metadata": {
      "needs_background": "light"
     },
     "output_type": "display_data"
    },
    {
     "name": "stdout",
     "output_type": "stream",
     "text": [
      "yellow_tripdata_2015-01.csv\n",
      "yellow_tripdata_2015-02.csv\n",
      "yellow_tripdata_2015-03.csv\n",
      "   n_long  n_total\n",
      "0   35321   201524\n",
      "The percentage of long trips longer than 20 minutes is\n",
      "0    17.526945\n",
      "dtype: float64\n"
     ]
    }
   ],
   "source": [
    "# In this project we make use of decorators,and the dask module.\n",
    "# We have 3 dataset of taxi rides from NYC.\n",
    "# We want to find the percentage of rides that are longer than 10 miles.\n",
    "\n",
    "import pandas as pd\n",
    "import matplotlib.pyplot as plt\n",
    "from dask import delayed\n",
    "\n",
    "# 1. Read big data sets in chunks.\n",
    "\n",
    "filename = 'yellow_tripdata_2015-01.csv'\n",
    "for chunk in pd.read_csv(filename, chunksize=10000):\n",
    "    print('type: %s shape: %s' % (type(chunk),chunk.shape))\n",
    "\n",
    "def filter_is_long_trip(data):\n",
    "    \"\"\"Returns DataFrame filtering trips that are longer than 10 miles\"\"\"\n",
    "    is_long_trip=(data.trip_distance>10)\n",
    "    return data.loc[is_long_trip]\n",
    "    \n",
    "chunks=[chunk.append(filter_is_long_trip(chunk)) for chunk in pd.read_csv(filename, chunksize=1000)]\n",
    "# or with the generator list comprehension\n",
    "# chunks=(chunk.append(filter_is_long_trip(chunk)) for chunk in pd.read_csv(filename, chunksize=1000))\n",
    "# In this way the elements are generated oone at a time, and they are never in the memory silmutaneously.\n",
    "\n",
    "lenghts=[len(chunk) for chunk in chunks]\n",
    "long_trip_df=pd.concat(chunks)\n",
    "long_trip_df.shape\n",
    "\n",
    "# Create a scatteroplot of NYC taxi rides cost for rides over 10 miles\n",
    "long_trip_df.plot.scatter(x='trip_distance',y='total_amount')\n",
    "plt.xlabel('Trip distance [miles]')\n",
    "plt.ylabel('Total amount paid [USD]')\n",
    "plt.title('NYC taxi rides cost for rides over 10 miles')\n",
    "plt.show()\n",
    "\n",
    "\n",
    "# 2. Now we will use generator to read the 3 csv files.\n",
    "\n",
    "template='yellow_tripdata_2015-{:02d}.csv'\n",
    "filenames=(template.format(k) for k in range(1,4)) #Generator\n",
    "for fname in filenames:                            #Examine contents\n",
    "    print(fname)\n",
    "\n",
    "\n",
    "# 3. Now we will compute the fraction of long trips longer than 20 minutes.\n",
    "\n",
    "def count_long_trips(df):\n",
    "    \"\"\"Filters trips longer than 20 minutes and counts the total number of trips\"\"\"\n",
    "    df['duration']=(df.tpep_dropoff_datetime-df.tpep_pickup_datetime).dt.seconds\n",
    "    is_long_trip=df.duration>1200\n",
    "    result_dict={\"n_long\":[sum(is_long_trip)],\"n_total\":[len(df)]}\n",
    "    return pd.DataFrame(result_dict)\n",
    "\n",
    "filenames=[template.format(k) for k in range(1,4)]                        #List Comprehension\n",
    "dataframes=(pd.read_csv(fname,parse_dates=[1,2]) for fname in filenames)  #Generator\n",
    "totals= (count_long_trips(df) for df in dataframes)                       #Generator\n",
    "annual_totals=sum(totals)                                                 #Consumes generators\n",
    "print(annual_totals)\n",
    "\n",
    "fraction=annual_totals['n_long'] / annual_totals['n_total']\n",
    "print('The percentage of long trips longer than 20 minutes is')\n",
    "print(fraction*100)\n"
   ]
  },
  {
   "cell_type": "code",
   "execution_count": 16,
   "metadata": {},
   "outputs": [
    {
     "name": "stdout",
     "output_type": "stream",
     "text": [
      "The percentage of long trips lonfer than 20 minutes is\n",
      "0    17.526945\n",
      "dtype: float64\n"
     ]
    }
   ],
   "source": [
    "# Now we will use the dask module to makes things go faster.\n",
    "\n",
    "from dask import delayed\n",
    "template='yellow_tripdata_2015-{:02d}.csv'\n",
    "filenames=[template.format(k) for k in range(1,4)] # List comprehension\n",
    "\n",
    "@delayed\n",
    "def count_long_trips(df):\n",
    "    \"\"\"Filters trips longer than 20 minutes and counts the total number of trips\"\"\"\n",
    "    df['duration']=(df.tpep_dropoff_datetime-df.tpep_pickup_datetime).dt.seconds\n",
    "    is_long_trip=df.duration>1200\n",
    "    result_dict={\"n_long\":[sum(is_long_trip)],\"n_total\":[len(df)]}\n",
    "    return pd.DataFrame(result_dict)\n",
    "\n",
    "@delayed\n",
    "def read_file(fname):\n",
    "    return pd.read_csv(fname,parse_dates=[1,2])\n",
    "\n",
    "totals = [count_long_trips(read_file(fname)) for fname in filenames] \n",
    "annual_totals=sum(totals)\n",
    "annual_totals=annual_totals.compute()\n",
    "                       \n",
    "                       \n",
    "fraction=annual_totals['n_long'] / annual_totals['n_total']\n",
    "print('The percentage of long trips lonfer than 20 minutes is')\n",
    "print(fraction*100)\n"
   ]
  },
  {
   "cell_type": "code",
   "execution_count": null,
   "metadata": {},
   "outputs": [],
   "source": []
  }
 ],
 "metadata": {
  "kernelspec": {
   "display_name": "Python 3",
   "language": "python",
   "name": "python3"
  },
  "language_info": {
   "codemirror_mode": {
    "name": "ipython",
    "version": 3
   },
   "file_extension": ".py",
   "mimetype": "text/x-python",
   "name": "python",
   "nbconvert_exporter": "python",
   "pygments_lexer": "ipython3",
   "version": "3.7.1"
  }
 },
 "nbformat": 4,
 "nbformat_minor": 2
}
