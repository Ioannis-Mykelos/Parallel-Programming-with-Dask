{
 "cells": [
  {
   "cell_type": "code",
   "execution_count": 2,
   "metadata": {},
   "outputs": [
    {
     "data": {
      "image/png": "[encoded data removed]",
      "text/plain": [
       "<Figure size 432x288 with 1 Axes>"
      ]
     },
     "metadata": {
      "needs_background": "light"
     },
     "output_type": "display_data"
    }
   ],
   "source": [
    "import pandas as pd\n",
    "import matplotlib.pyplot as plt\n",
    "\n",
    "# Multiple CSV files of flight information have been provided from the \n",
    "# Bureau of Transportation Statistics. Each file contains one month of information in 2016 (Jan to May).\n",
    "\n",
    "# 1. build a function to compute the percentage of delayed flights given a DataFrame of flight information. Your function will \n",
    "# take a single DataFrame as input and compute the percentage of its rows in which the 'DEP_DELAY' value is greater than zero.\n",
    "\n",
    "# Define function with single input called df: pct_delayed\n",
    "def pct_delayed(df):\n",
    "    # Compute number of delayed flights: n_delayed\n",
    "    n_delayed = (df['DEP_DELAY']>0).sum()\n",
    "    # Return percentage of delayed flights\n",
    "    return n_delayed  * 100 / len(df) \n",
    "\n",
    "# 2. Apply it with a generator to analyze the percentage of delayed flights for \n",
    "#    each month ('Jan','Feb','Mar','Apr','May') of 2016.\n",
    "\n",
    "template='flightdelays-2016-{:01d}.csv'\n",
    "filenames=[template.format(k) for k in range(1,6)]\n",
    "\n",
    "# Define the generator: dataframes\n",
    "dataframes = (pd.read_csv(file) for file in filenames)\n",
    "\n",
    "# Create the list comprehension: monthly_delayed\n",
    "monthly_delayed = [pct_delayed(df) for df in dataframes]\n",
    "\n",
    "# Create the plot\n",
    "x=['Jan','Feb','Mar','Apr','May']\n",
    "plt.plot(x, monthly_delayed, marker='o', linewidth=1)\n",
    "plt.ylabel('% Delayed')\n",
    "plt.xlabel('Months - 2016')\n",
    "plt.xlim((-1,5))\n",
    "plt.ylim((0,100))\n",
    "plt.title('% of delays the first 5 months of 2016')\n",
    "plt.show()"
   ]
  },
  {
   "cell_type": "code",
   "execution_count": null,
   "metadata": {},
   "outputs": [],
   "source": []
  }
 ],
 "metadata": {
  "kernelspec": {
   "display_name": "Python 3",
   "language": "python",
   "name": "python3"
  },
  "language_info": {
   "codemirror_mode": {
    "name": "ipython",
    "version": 3
   },
   "file_extension": ".py",
   "mimetype": "text/x-python",
   "name": "python",
   "nbconvert_exporter": "python",
   "pygments_lexer": "ipython3",
   "version": "3.7.1"
  }
 },
 "nbformat": 4,
 "nbformat_minor": 2
}
